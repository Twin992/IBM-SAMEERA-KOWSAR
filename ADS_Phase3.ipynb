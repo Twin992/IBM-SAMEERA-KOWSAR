{
 "cells": [
  {
   "cell_type": "code",
   "execution_count": 1,
   "id": "fe7e3c89",
   "metadata": {
    "execution": {
     "iopub.execute_input": "2021-11-06T19:59:22.161080Z",
     "iopub.status.busy": "2021-11-06T19:59:22.159223Z",
     "iopub.status.idle": "2021-11-06T19:59:23.193728Z",
     "shell.execute_reply": "2021-11-06T19:59:23.194528Z",
     "shell.execute_reply.started": "2021-11-06T19:51:34.532532Z"
    },
    "id": "waq290tMefI5",
    "papermill": {
     "duration": 1.054329,
     "end_time": "2021-11-06T19:59:23.194945",
     "exception": false,
     "start_time": "2021-11-06T19:59:22.140616",
     "status": "completed"
    },
    "tags": []
   },
   "outputs": [
    {
     "name": "stdout",
     "output_type": "stream",
     "text": [
      "['mall-customers']\n"
     ]
    }
   ],
   "source": [
    "#Import Packages \n",
    "import numpy as np \n",
    "import pandas as pd \n",
    "import os\n",
    "import matplotlib.pyplot as plt\n",
    "import seaborn as sns\n",
    "sns.set(context=\"notebook\", palette=\"Spectral\", style = 'darkgrid' ,font_scale = 1.5, color_codes=True)\n",
    "print(os.listdir(\"../input\"))"
   ]
  },
  {
   "cell_type": "code",
   "execution_count": 2,
   "id": "d634b1c2",
   "metadata": {
    "execution": {
     "iopub.execute_input": "2021-11-06T19:59:23.226099Z",
     "iopub.status.busy": "2021-11-06T19:59:23.225383Z",
     "iopub.status.idle": "2021-11-06T19:59:23.249936Z",
     "shell.execute_reply": "2021-11-06T19:59:23.248807Z",
     "shell.execute_reply.started": "2021-11-06T19:51:34.543231Z"
    },
    "id": "F6TTgUNRe3IO",
    "papermill": {
     "duration": 0.041232,
     "end_time": "2021-11-06T19:59:23.250129",
     "exception": false,
     "start_time": "2021-11-06T19:59:23.208897",
     "status": "completed"
    },
    "tags": []
   },
   "outputs": [],
   "source": [
    "# Importing the dataset\n",
    "dataset = pd.read_csv('../input/mall-customers/Mall_Customers.csv',index_col='CustomerID')"
   ]
  },
  {
   "cell_type": "code",
   "execution_count": 3,
   "id": "f8bb07d4",
   "metadata": {
    "execution": {
     "iopub.execute_input": "2021-11-06T19:59:23.280052Z",
     "iopub.status.busy": "2021-11-06T19:59:23.279335Z",
     "iopub.status.idle": "2021-11-06T19:59:23.294722Z",
     "shell.execute_reply": "2021-11-06T19:59:23.295285Z",
     "shell.execute_reply.started": "2021-11-06T19:51:34.568615Z"
    },
    "id": "11h-D9KRe69e",
    "outputId": "26672367-f2d5-40c8-b3dd-16465e12864b",
    "papermill": {
     "duration": 0.033081,
     "end_time": "2021-11-06T19:59:23.295464",
     "exception": false,
     "start_time": "2021-11-06T19:59:23.262383",
     "status": "completed"
    },
    "tags": []
   },
   "outputs": [
    {
     "data": {
      "text/html": [
       "<div>\n",
       "<style scoped>\n",
       "    .dataframe tbody tr th:only-of-type {\n",
       "        vertical-align: middle;\n",
       "    }\n",
       "\n",
       "    .dataframe tbody tr th {\n",
       "        vertical-align: top;\n",
       "    }\n",
       "\n",
       "    .dataframe thead th {\n",
       "        text-align: right;\n",
       "    }\n",
       "</style>\n",
       "<table border=\"1\" class=\"dataframe\">\n",
       "  <thead>\n",
       "    <tr style=\"text-align: right;\">\n",
       "      <th></th>\n",
       "      <th>Genre</th>\n",
       "      <th>Age</th>\n",
       "      <th>Annual Income (k$)</th>\n",
       "      <th>Spending Score (1-100)</th>\n",
       "    </tr>\n",
       "    <tr>\n",
       "      <th>CustomerID</th>\n",
       "      <th></th>\n",
       "      <th></th>\n",
       "      <th></th>\n",
       "      <th></th>\n",
       "    </tr>\n",
       "  </thead>\n",
       "  <tbody>\n",
       "    <tr>\n",
       "      <th>1</th>\n",
       "      <td>Male</td>\n",
       "      <td>19</td>\n",
       "      <td>15</td>\n",
       "      <td>39</td>\n",
       "    </tr>\n",
       "    <tr>\n",
       "      <th>2</th>\n",
       "      <td>Male</td>\n",
       "      <td>21</td>\n",
       "      <td>15</td>\n",
       "      <td>81</td>\n",
       "    </tr>\n",
       "    <tr>\n",
       "      <th>3</th>\n",
       "      <td>Female</td>\n",
       "      <td>20</td>\n",
       "      <td>16</td>\n",
       "      <td>6</td>\n",
       "    </tr>\n",
       "    <tr>\n",
       "      <th>4</th>\n",
       "      <td>Female</td>\n",
       "      <td>23</td>\n",
       "      <td>16</td>\n",
       "      <td>77</td>\n",
       "    </tr>\n",
       "    <tr>\n",
       "      <th>5</th>\n",
       "      <td>Female</td>\n",
       "      <td>31</td>\n",
       "      <td>17</td>\n",
       "      <td>40</td>\n",
       "    </tr>\n",
       "  </tbody>\n",
       "</table>\n",
       "</div>"
      ],
      "text/plain": [
       "             Genre  Age  Annual Income (k$)  Spending Score (1-100)\n",
       "CustomerID                                                         \n",
       "1             Male   19                  15                      39\n",
       "2             Male   21                  15                      81\n",
       "3           Female   20                  16                       6\n",
       "4           Female   23                  16                      77\n",
       "5           Female   31                  17                      40"
      ]
     },
     "execution_count": 3,
     "metadata": {},
     "output_type": "execute_result"
    }
   ],
   "source": [
    "dataset.head()"
   ]
  },
  {
   "cell_type": "code",
   "execution_count": 4,
   "id": "fbcd70ef",
   "metadata": {
    "execution": {
     "iopub.execute_input": "2021-11-06T19:59:23.324466Z",
     "iopub.status.busy": "2021-11-06T19:59:23.323735Z",
     "iopub.status.idle": "2021-11-06T19:59:23.340679Z",
     "shell.execute_reply": "2021-11-06T19:59:23.340093Z",
     "shell.execute_reply.started": "2021-11-06T19:51:34.581030Z"
    },
    "id": "d5g76Wfie9Tq",
    "outputId": "13b4971f-6f17-40d6-e597-d5680ec2561f",
    "papermill": {
     "duration": 0.03251,
     "end_time": "2021-11-06T19:59:23.340833",
     "exception": false,
     "start_time": "2021-11-06T19:59:23.308323",
     "status": "completed"
    },
    "tags": []
   },
   "outputs": [
    {
     "name": "stdout",
     "output_type": "stream",
     "text": [
      "<class 'pandas.core.frame.DataFrame'>\n",
      "Int64Index: 200 entries, 1 to 200\n",
      "Data columns (total 4 columns):\n",
      " #   Column                  Non-Null Count  Dtype \n",
      "---  ------                  --------------  ----- \n",
      " 0   Genre                   200 non-null    object\n",
      " 1   Age                     200 non-null    int64 \n",
      " 2   Annual Income (k$)      200 non-null    int64 \n",
      " 3   Spending Score (1-100)  200 non-null    int64 \n",
      "dtypes: int64(3), object(1)\n",
      "memory usage: 7.8+ KB\n"
     ]
    }
   ],
   "source": [
    "dataset.info()"
   ]
  },
  {
   "cell_type": "code",
   "execution_count": 5,
   "id": "22089a80",
   "metadata": {
    "execution": {
     "iopub.execute_input": "2021-11-06T19:59:23.376875Z",
     "iopub.status.busy": "2021-11-06T19:59:23.376213Z",
     "iopub.status.idle": "2021-11-06T19:59:23.392865Z",
     "shell.execute_reply": "2021-11-06T19:59:23.392338Z",
     "shell.execute_reply.started": "2021-11-06T19:51:34.599976Z"
    },
    "id": "S6txWHRgfA0b",
    "outputId": "1b0e1ea5-7ee0-447f-ad5d-45f263066a2c",
    "papermill": {
     "duration": 0.03836,
     "end_time": "2021-11-06T19:59:23.393024",
     "exception": false,
     "start_time": "2021-11-06T19:59:23.354664",
     "status": "completed"
    },
    "tags": []
   },
   "outputs": [
    {
     "data": {
      "text/html": [
       "<div>\n",
       "<style scoped>\n",
       "    .dataframe tbody tr th:only-of-type {\n",
       "        vertical-align: middle;\n",
       "    }\n",
       "\n",
       "    .dataframe tbody tr th {\n",
       "        vertical-align: top;\n",
       "    }\n",
       "\n",
       "    .dataframe thead th {\n",
       "        text-align: right;\n",
       "    }\n",
       "</style>\n",
       "<table border=\"1\" class=\"dataframe\">\n",
       "  <thead>\n",
       "    <tr style=\"text-align: right;\">\n",
       "      <th></th>\n",
       "      <th>Age</th>\n",
       "      <th>Annual Income (k$)</th>\n",
       "      <th>Spending Score (1-100)</th>\n",
       "    </tr>\n",
       "  </thead>\n",
       "  <tbody>\n",
       "    <tr>\n",
       "      <th>count</th>\n",
       "      <td>200.000000</td>\n",
       "      <td>200.000000</td>\n",
       "      <td>200.000000</td>\n",
       "    </tr>\n",
       "    <tr>\n",
       "      <th>mean</th>\n",
       "      <td>38.850000</td>\n",
       "      <td>60.560000</td>\n",
       "      <td>50.200000</td>\n",
       "    </tr>\n",
       "    <tr>\n",
       "      <th>std</th>\n",
       "      <td>13.969007</td>\n",
       "      <td>26.264721</td>\n",
       "      <td>25.823522</td>\n",
       "    </tr>\n",
       "    <tr>\n",
       "      <th>min</th>\n",
       "      <td>18.000000</td>\n",
       "      <td>15.000000</td>\n",
       "      <td>1.000000</td>\n",
       "    </tr>\n",
       "    <tr>\n",
       "      <th>25%</th>\n",
       "      <td>28.750000</td>\n",
       "      <td>41.500000</td>\n",
       "      <td>34.750000</td>\n",
       "    </tr>\n",
       "    <tr>\n",
       "      <th>50%</th>\n",
       "      <td>36.000000</td>\n",
       "      <td>61.500000</td>\n",
       "      <td>50.000000</td>\n",
       "    </tr>\n",
       "    <tr>\n",
       "      <th>75%</th>\n",
       "      <td>49.000000</td>\n",
       "      <td>78.000000</td>\n",
       "      <td>73.000000</td>\n",
       "    </tr>\n",
       "    <tr>\n",
       "      <th>max</th>\n",
       "      <td>70.000000</td>\n",
       "      <td>137.000000</td>\n",
       "      <td>99.000000</td>\n",
       "    </tr>\n",
       "  </tbody>\n",
       "</table>\n",
       "</div>"
      ],
      "text/plain": [
       "              Age  Annual Income (k$)  Spending Score (1-100)\n",
       "count  200.000000          200.000000              200.000000\n",
       "mean    38.850000           60.560000               50.200000\n",
       "std     13.969007           26.264721               25.823522\n",
       "min     18.000000           15.000000                1.000000\n",
       "25%     28.750000           41.500000               34.750000\n",
       "50%     36.000000           61.500000               50.000000\n",
       "75%     49.000000           78.000000               73.000000\n",
       "max     70.000000          137.000000               99.000000"
      ]
     },
     "execution_count": 5,
     "metadata": {},
     "output_type": "execute_result"
    }
   ],
   "source": [
    "dataset.describe()"
   ]
  },
  {
   "cell_type": "code",
   "execution_count": 6,
   "id": "cba54981",
   "metadata": {
    "execution": {
     "iopub.execute_input": "2021-11-06T19:59:23.423724Z",
     "iopub.status.busy": "2021-11-06T19:59:23.423008Z",
     "iopub.status.idle": "2021-11-06T19:59:23.429877Z",
     "shell.execute_reply": "2021-11-06T19:59:23.430432Z",
     "shell.execute_reply.started": "2021-11-06T19:51:34.621203Z"
    },
    "id": "TCHHRiiIfFUQ",
    "outputId": "94c93c50-9c3f-4731-9613-65afcab4458d",
    "papermill": {
     "duration": 0.024191,
     "end_time": "2021-11-06T19:59:23.430607",
     "exception": false,
     "start_time": "2021-11-06T19:59:23.406416",
     "status": "completed"
    },
    "tags": []
   },
   "outputs": [
    {
     "data": {
      "text/plain": [
       "Genre                     0\n",
       "Age                       0\n",
       "Annual Income (k$)        0\n",
       "Spending Score (1-100)    0\n",
       "dtype: int64"
      ]
     },
     "execution_count": 6,
     "metadata": {},
     "output_type": "execute_result"
    }
   ],
   "source": [
    "dataset.isnull().sum()"
   ]
  },
  {
   "cell_type": "code",
   "execution_count": 7,
   "id": "042e7ca3",
   "metadata": {
    "execution": {
     "iopub.execute_input": "2021-11-06T19:59:23.471351Z",
     "iopub.status.busy": "2021-11-06T19:59:23.470343Z",
     "iopub.status.idle": "2021-11-06T19:59:23.473435Z",
     "shell.execute_reply": "2021-11-06T19:59:23.472765Z",
     "shell.execute_reply.started": "2021-11-06T19:51:34.629805Z"
    },
    "id": "BRrPgiT_fHxT",
    "papermill": {
     "duration": 0.029157,
     "end_time": "2021-11-06T19:59:23.473577",
     "exception": false,
     "start_time": "2021-11-06T19:59:23.444420",
     "status": "completed"
    },
    "tags": []
   },
   "outputs": [],
   "source": [
    "dataset.drop_duplicates(inplace=True)"
   ]
  },
  {
   "cell_type": "code",
   "execution_count": 8,
   "id": "a0f16a78",
   "metadata": {
    "execution": {
     "iopub.execute_input": "2021-11-06T19:59:23.506624Z",
     "iopub.status.busy": "2021-11-06T19:59:23.505990Z",
     "iopub.status.idle": "2021-11-06T19:59:23.508729Z",
     "shell.execute_reply": "2021-11-06T19:59:23.509190Z",
     "shell.execute_reply.started": "2021-11-06T19:51:34.641995Z"
    },
    "id": "Ix93UkDCfKM0",
    "papermill": {
     "duration": 0.022066,
     "end_time": "2021-11-06T19:59:23.509361",
     "exception": false,
     "start_time": "2021-11-06T19:59:23.487295",
     "status": "completed"
    },
    "tags": []
   },
   "outputs": [],
   "source": [
    "# using only Spending_Score and income variable for easy visualisation\n",
    "X = dataset.iloc[:, [2, 3]].values"
   ]
  },
  {
   "cell_type": "code",
   "execution_count": 9,
   "id": "d113a91e",
   "metadata": {
    "execution": {
     "iopub.execute_input": "2021-11-06T19:59:23.542151Z",
     "iopub.status.busy": "2021-11-06T19:59:23.539327Z",
     "iopub.status.idle": "2021-11-06T19:59:24.635883Z",
     "shell.execute_reply": "2021-11-06T19:59:24.636721Z",
     "shell.execute_reply.started": "2021-11-06T19:51:34.652182Z"
    },
    "id": "IXfZfumJfM_z",
    "papermill": {
     "duration": 1.113859,
     "end_time": "2021-11-06T19:59:24.636902",
     "exception": false,
     "start_time": "2021-11-06T19:59:23.523043",
     "status": "completed"
    },
    "tags": []
   },
   "outputs": [],
   "source": [
    "# Using the elbow method to find the optimal number of clusters\n",
    "from sklearn.cluster import KMeans\n",
    "wcss = []\n",
    "for i in range(1, 11):\n",
    "    kmeans = KMeans(n_clusters = i, init = 'k-means++', random_state = 42)\n",
    "    kmeans.fit(X)\n",
    "    # inertia method returns wcss for that model\n",
    "    wcss.append(kmeans.inertia_)"
   ]
  },
  {
   "cell_type": "code",
   "execution_count": 10,
   "id": "a083e5df",
   "metadata": {
    "execution": {
     "iopub.execute_input": "2021-11-06T19:59:24.675322Z",
     "iopub.status.busy": "2021-11-06T19:59:24.674518Z",
     "iopub.status.idle": "2021-11-06T19:59:24.987274Z",
     "shell.execute_reply": "2021-11-06T19:59:24.987928Z",
     "shell.execute_reply.started": "2021-11-06T19:51:35.067273Z"
    },
    "id": "XyZf7BmDfPpb",
    "outputId": "d44332b3-a8f3-48d8-dbb6-55a7e3cedda5",
    "papermill": {
     "duration": 0.336426,
     "end_time": "2021-11-06T19:59:24.988137",
     "exception": false,
     "start_time": "2021-11-06T19:59:24.651711",
     "status": "completed"
    },
    "tags": []
   },
   "outputs": [
    {
     "name": "stderr",
     "output_type": "stream",
     "text": [
      "/opt/conda/lib/python3.7/site-packages/seaborn/_decorators.py:43: FutureWarning: Pass the following variables as keyword args: x, y. From version 0.12, the only valid positional argument will be `data`, and passing other arguments without an explicit keyword will result in an error or misinterpretation.\n",
      "  FutureWarning\n"
     ]
    },
    {
     "data": {
      "image/png": "[encoded data removed]",
      "text/plain": [
       "<Figure size 720x360 with 1 Axes>"
      ]
     },
     "metadata": {},
     "output_type": "display_data"
    }
   ],
   "source": [
    "plt.figure(figsize=(10,5))\n",
    "sns.lineplot(range(1, 11), wcss,marker='o',color='red')\n",
    "plt.title('The Elbow Method')\n",
    "plt.xlabel('Number of clusters')\n",
    "plt.ylabel('WCSS')\n",
    "plt.show()"
   ]
  },
  {
   "cell_type": "code",
   "execution_count": 11,
   "id": "f78b7834",
   "metadata": {
    "execution": {
     "iopub.execute_input": "2021-11-06T19:59:25.028779Z",
     "iopub.status.busy": "2021-11-06T19:59:25.028080Z",
     "iopub.status.idle": "2021-11-06T19:59:25.071698Z",
     "shell.execute_reply": "2021-11-06T19:59:25.072294Z",
     "shell.execute_reply.started": "2021-11-06T19:51:35.336123Z"
    },
    "id": "nhNzMu9EfSn-",
    "papermill": {
     "duration": 0.06801,
     "end_time": "2021-11-06T19:59:25.072488",
     "exception": false,
     "start_time": "2021-11-06T19:59:25.004478",
     "status": "completed"
    },
    "tags": []
   },
   "outputs": [],
   "source": [
    "# Fitting K-Means to the dataset\n",
    "kmeans = KMeans(n_clusters = 5, init = 'k-means++', random_state = 42)\n",
    "y_kmeans = kmeans.fit_predict(X)"
   ]
  },
  {
   "cell_type": "code",
   "execution_count": 12,
   "id": "7cd7bd5d",
   "metadata": {
    "execution": {
     "iopub.execute_input": "2021-11-06T19:59:25.108284Z",
     "iopub.status.busy": "2021-11-06T19:59:25.107404Z",
     "iopub.status.idle": "2021-11-06T19:59:25.684142Z",
     "shell.execute_reply": "2021-11-06T19:59:25.684673Z",
     "shell.execute_reply.started": "2021-11-06T19:51:35.377218Z"
    },
    "id": "AbsM4bqWfXgf",
    "outputId": "ae858920-0b3d-4c5c-8bc7-faf104183928",
    "papermill": {
     "duration": 0.596222,
     "end_time": "2021-11-06T19:59:25.684858",
     "exception": false,
     "start_time": "2021-11-06T19:59:25.088636",
     "status": "completed"
    },
    "tags": []
   },
   "outputs": [
    {
     "name": "stderr",
     "output_type": "stream",
     "text": [
      "/opt/conda/lib/python3.7/site-packages/seaborn/_decorators.py:43: FutureWarning: Pass the following variables as keyword args: x, y. From version 0.12, the only valid positional argument will be `data`, and passing other arguments without an explicit keyword will result in an error or misinterpretation.\n",
      "  FutureWarning\n",
      "/opt/conda/lib/python3.7/site-packages/seaborn/_decorators.py:43: FutureWarning: Pass the following variables as keyword args: x, y. From version 0.12, the only valid positional argument will be `data`, and passing other arguments without an explicit keyword will result in an error or misinterpretation.\n",
      "  FutureWarning\n",
      "/opt/conda/lib/python3.7/site-packages/seaborn/_decorators.py:43: FutureWarning: Pass the following variables as keyword args: x, y. From version 0.12, the only valid positional argument will be `data`, and passing other arguments without an explicit keyword will result in an error or misinterpretation.\n",
      "  FutureWarning\n",
      "/opt/conda/lib/python3.7/site-packages/seaborn/_decorators.py:43: FutureWarning: Pass the following variables as keyword args: x, y. From version 0.12, the only valid positional argument will be `data`, and passing other arguments without an explicit keyword will result in an error or misinterpretation.\n",
      "  FutureWarning\n",
      "/opt/conda/lib/python3.7/site-packages/seaborn/_decorators.py:43: FutureWarning: Pass the following variables as keyword args: x, y. From version 0.12, the only valid positional argument will be `data`, and passing other arguments without an explicit keyword will result in an error or misinterpretation.\n",
      "  FutureWarning\n",
      "/opt/conda/lib/python3.7/site-packages/seaborn/_decorators.py:43: FutureWarning: Pass the following variables as keyword args: x, y. From version 0.12, the only valid positional argument will be `data`, and passing other arguments without an explicit keyword will result in an error or misinterpretation.\n",
      "  FutureWarning\n"
     ]
    },
    {
     "data": {
      "image/png": "[encoded data removed]",
      "text/plain": [
       "<Figure size 1080x504 with 1 Axes>"
      ]
     },
     "metadata": {},
     "output_type": "display_data"
    }
   ],
   "source": [
    "# Visualising the clusters\n",
    "plt.figure(figsize=(15,7))\n",
    "sns.scatterplot(X[y_kmeans == 0, 0], X[y_kmeans == 0, 1], color = 'yellow', label = 'Cluster 1',s=50)\n",
    "sns.scatterplot(X[y_kmeans == 1, 0], X[y_kmeans == 1, 1], color = 'blue', label = 'Cluster 2',s=50)\n",
    "sns.scatterplot(X[y_kmeans == 2, 0], X[y_kmeans == 2, 1], color = 'green', label = 'Cluster 3',s=50)\n",
    "sns.scatterplot(X[y_kmeans == 3, 0], X[y_kmeans == 3, 1], color = 'grey', label = 'Cluster 4',s=50)\n",
    "sns.scatterplot(X[y_kmeans == 4, 0], X[y_kmeans == 4, 1], color = 'orange', label = 'Cluster 5',s=50)\n",
    "sns.scatterplot(kmeans.cluster_centers_[:, 0], kmeans.cluster_centers_[:, 1], color = 'red', \n",
    "                label = 'Centroids',s=300,marker=',')\n",
    "plt.grid(False)\n",
    "plt.title('Clusters of customers')\n",
    "plt.xlabel('Annual Income (k$)')\n",
    "plt.ylabel('Spending Score (1-100)')\n",
    "plt.legend()\n",
    "plt.show()"
   ]
  },
  {
   "cell_type": "code",
   "execution_count": null,
   "id": "d59ee1cf",
   "metadata": {
    "id": "Q_TwYxnGfZxx",
    "papermill": {
     "duration": 0.017768,
     "end_time": "2021-11-06T19:59:25.720293",
     "exception": false,
     "start_time": "2021-11-06T19:59:25.702525",
     "status": "completed"
    },
    "tags": []
   },
   "outputs": [],
   "source": []
  }
 ],
 "metadata": {
  "kernelspec": {
   "display_name": "Python 3",
   "language": "python",
   "name": "python3"
  },
  "language_info": {
   "codemirror_mode": {
    "name": "ipython",
    "version": 3
   },
   "file_extension": ".py",
   "mimetype": "text/x-python",
   "name": "python",
   "nbconvert_exporter": "python",
   "pygments_lexer": "ipython3",
   "version": "3.7.10"
  },
  "papermill": {
   "default_parameters": {},
   "duration": 14.394779,
   "end_time": "2021-11-06T19:59:26.547969",
   "environment_variables": {},
   "exception": null,
   "input_path": "__notebook__.ipynb",
   "output_path": "__notebook__.ipynb",
   "parameters": {},
   "start_time": "2021-11-06T19:59:12.153190",
   "version": "2.3.3"
  }
 },
 "nbformat": 4,
 "nbformat_minor": 5
}
